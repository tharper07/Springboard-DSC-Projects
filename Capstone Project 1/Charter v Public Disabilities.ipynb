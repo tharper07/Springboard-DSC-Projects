{
 "cells": [
  {
   "cell_type": "markdown",
   "metadata": {},
   "source": [
    "# Comparing the percentage of Students with Disabilities between Charter and Public Schools in Massachusetts\n",
    "\n",
    "## The Question"
   ]
  },
  {
   "cell_type": "code",
   "execution_count": 1,
   "metadata": {
    "collapsed": true
   },
   "outputs": [],
   "source": [
    "# import packages\n",
    "from scipy.stats import ttest_ind, ttest_ind_from_stats\n",
    "from statsmodels.stats.proportion import proportions_ztest\n",
    "import pandas as pd\n",
    "import matplotlib.pyplot as plt\n",
    "import matplotlib.image as mpimg\n",
    "import seaborn as sns\n",
    "import numpy as np\n",
    "\n",
    "# set jupyter netbook options\n",
    "pd.set_option('max_columns',0)\n",
    "%matplotlib inline"
   ]
  },
  {
   "cell_type": "code",
   "execution_count": 2,
   "metadata": {},
   "outputs": [
    {
     "data": {
      "text/html": [
       "<div>\n",
       "<style>\n",
       "    .dataframe thead tr:only-child th {\n",
       "        text-align: right;\n",
       "    }\n",
       "\n",
       "    .dataframe thead th {\n",
       "        text-align: left;\n",
       "    }\n",
       "\n",
       "    .dataframe tbody tr th {\n",
       "        vertical-align: top;\n",
       "    }\n",
       "</style>\n",
       "<table border=\"1\" class=\"dataframe\">\n",
       "  <thead>\n",
       "    <tr style=\"text-align: right;\">\n",
       "      <th></th>\n",
       "      <th>School Code</th>\n",
       "      <th>School Name</th>\n",
       "      <th>School Type</th>\n",
       "      <th>District Name</th>\n",
       "      <th>District Code</th>\n",
       "      <th>Zip</th>\n",
       "      <th>TOTAL_Enrollment</th>\n",
       "      <th>Students With Disabilities</th>\n",
       "      <th>% Students With Disabilities</th>\n",
       "    </tr>\n",
       "  </thead>\n",
       "  <tbody>\n",
       "    <tr>\n",
       "      <th>0</th>\n",
       "      <td>10505</td>\n",
       "      <td>Abington High</td>\n",
       "      <td>Public School</td>\n",
       "      <td>Abington</td>\n",
       "      <td>10000</td>\n",
       "      <td>2351</td>\n",
       "      <td>452</td>\n",
       "      <td>44.0</td>\n",
       "      <td>9.7</td>\n",
       "    </tr>\n",
       "    <tr>\n",
       "      <th>1</th>\n",
       "      <td>10003</td>\n",
       "      <td>Beaver Brook Elementary School</td>\n",
       "      <td>Public School</td>\n",
       "      <td>Abington</td>\n",
       "      <td>10000</td>\n",
       "      <td>2351</td>\n",
       "      <td>580</td>\n",
       "      <td>77.0</td>\n",
       "      <td>13.3</td>\n",
       "    </tr>\n",
       "    <tr>\n",
       "      <th>2</th>\n",
       "      <td>10002</td>\n",
       "      <td>Center Elementary School</td>\n",
       "      <td>Public School</td>\n",
       "      <td>Abington</td>\n",
       "      <td>10000</td>\n",
       "      <td>2351</td>\n",
       "      <td>203</td>\n",
       "      <td>43.0</td>\n",
       "      <td>21.2</td>\n",
       "    </tr>\n",
       "    <tr>\n",
       "      <th>3</th>\n",
       "      <td>10405</td>\n",
       "      <td>Frolio Middle School</td>\n",
       "      <td>Public School</td>\n",
       "      <td>Abington</td>\n",
       "      <td>10000</td>\n",
       "      <td>2351</td>\n",
       "      <td>328</td>\n",
       "      <td>43.0</td>\n",
       "      <td>13.1</td>\n",
       "    </tr>\n",
       "    <tr>\n",
       "      <th>4</th>\n",
       "      <td>10015</td>\n",
       "      <td>Woodsdale Elementary School</td>\n",
       "      <td>Public School</td>\n",
       "      <td>Abington</td>\n",
       "      <td>10000</td>\n",
       "      <td>2351</td>\n",
       "      <td>353</td>\n",
       "      <td>38.0</td>\n",
       "      <td>10.8</td>\n",
       "    </tr>\n",
       "  </tbody>\n",
       "</table>\n",
       "</div>"
      ],
      "text/plain": [
       "   School Code             ...              % Students With Disabilities\n",
       "0        10505             ...                                       9.7\n",
       "1        10003             ...                                      13.3\n",
       "2        10002             ...                                      21.2\n",
       "3        10405             ...                                      13.1\n",
       "4        10015             ...                                      10.8\n",
       "\n",
       "[5 rows x 9 columns]"
      ]
     },
     "execution_count": 2,
     "metadata": {},
     "output_type": "execute_result"
    }
   ],
   "source": [
    "# read data from Mass DOE\n",
    "schools = pd.read_csv('MA_Public_Schools_2017.csv')\n",
    "schools.dropna(inplace=True, subset=['Students With Disabilities'])\n",
    "\n",
    "# select columns relevant to English Language Learners\n",
    "school_dis = schools[['School Code','School Name','School Type','District Name','District Code','Zip',\n",
    "                      'TOTAL_Enrollment', 'Students With Disabilities', '% Students With Disabilities']]\n",
    "\n",
    "school_dis.head()"
   ]
  },
  {
   "cell_type": "code",
   "execution_count": 5,
   "metadata": {},
   "outputs": [
    {
     "data": {
      "text/html": [
       "<div>\n",
       "<style>\n",
       "    .dataframe thead tr:only-child th {\n",
       "        text-align: right;\n",
       "    }\n",
       "\n",
       "    .dataframe thead th {\n",
       "        text-align: left;\n",
       "    }\n",
       "\n",
       "    .dataframe tbody tr th {\n",
       "        vertical-align: top;\n",
       "    }\n",
       "</style>\n",
       "<table border=\"1\" class=\"dataframe\">\n",
       "  <thead>\n",
       "    <tr style=\"text-align: right;\">\n",
       "      <th></th>\n",
       "      <th>% Students With Disabilities</th>\n",
       "      <th>Students With Disabilities</th>\n",
       "    </tr>\n",
       "    <tr>\n",
       "      <th>School Type</th>\n",
       "      <th></th>\n",
       "      <th></th>\n",
       "    </tr>\n",
       "  </thead>\n",
       "  <tbody>\n",
       "    <tr>\n",
       "      <th>Charter School</th>\n",
       "      <td>15.423077</td>\n",
       "      <td>6078.0</td>\n",
       "    </tr>\n",
       "    <tr>\n",
       "      <th>Public School</th>\n",
       "      <td>18.346953</td>\n",
       "      <td>150964.0</td>\n",
       "    </tr>\n",
       "  </tbody>\n",
       "</table>\n",
       "</div>"
      ],
      "text/plain": [
       "                % Students With Disabilities  Students With Disabilities\n",
       "School Type                                                             \n",
       "Charter School                     15.423077                      6078.0\n",
       "Public School                      18.346953                    150964.0"
      ]
     },
     "execution_count": 5,
     "metadata": {},
     "output_type": "execute_result"
    }
   ],
   "source": [
    "school_dis.pivot_table(index = 'School Type', \n",
    "                       values=['Students With Disabilities', '% Students With Disabilities'],\n",
    "                       aggfunc={'Students With Disabilities':'sum', '% Students With Disabilities':'mean'})"
   ]
  },
  {
   "cell_type": "code",
   "execution_count": 6,
   "metadata": {},
   "outputs": [
    {
     "name": "stdout",
     "output_type": "stream",
     "text": [
      "Charter mean: 15.42  Public mean: 18.35\n"
     ]
    },
    {
     "data": {
      "text/plain": [
       "Ttest_indResult(statistic=-2.2071254525129809, pvalue=0.027427811409878777)"
      ]
     },
     "execution_count": 6,
     "metadata": {},
     "output_type": "execute_result"
    }
   ],
   "source": [
    "charter_dis = schools[schools['School Type'] == 'Charter School']['% Students With Disabilities']\n",
    "public_dis  = schools[schools['School Type'] == 'Public School']['% Students With Disabilities']\n",
    "\n",
    "print('Charter mean: {:.2f}  Public mean: {:.2f}'.format(charter_dis.mean(), public_dis.mean()))\n",
    "\n",
    "ttest_ind(charter_dis, public_dis)"
   ]
  },
  {
   "cell_type": "code",
   "execution_count": 7,
   "metadata": {},
   "outputs": [
    {
     "data": {
      "text/plain": [
       "<matplotlib.legend.Legend at 0x1df899b54e0>"
      ]
     },
     "execution_count": 7,
     "metadata": {},
     "output_type": "execute_result"
    },
    {
     "data": {
      "image/png": "[encoded data removed]",
      "text/plain": [
       "<matplotlib.figure.Figure at 0x1df891004e0>"
      ]
     },
     "metadata": {},
     "output_type": "display_data"
    }
   ],
   "source": [
    "bins = [10*i for i in range(0,11)]\n",
    "\n",
    "plt.figure(figsize=(8,5))\n",
    "sns.distplot(charter_dis, bins=bins, kde=False, norm_hist=True)\n",
    "sns.distplot(public_dis, bins=bins, kde=False, norm_hist=True)\n",
    "plt.title('Distribution of Schools by % Students With Disabilities')\n",
    "plt.margins(0.02)\n",
    "plt.legend(['Charter', 'Public'])"
   ]
  },
  {
   "cell_type": "code",
   "execution_count": 10,
   "metadata": {
    "collapsed": true
   },
   "outputs": [],
   "source": [
    "f= {'TOTAL_Enrollment':'sum', 'Students With Disabilities':'sum', '% Students With Disabilities':'mean'}\n",
    "\n",
    "school_dis_by_zip = school_dis.drop(['School Code', 'School Name', 'District Name', 'District Code'], axis=1).groupby(['Zip', 'School Type']).agg(f)\n",
    "\n",
    "# slice demographic data by zip codes with public and charter schools\n",
    "idx = pd.IndexSlice\n",
    "public_and_charter = [i for i in school_dis['Zip'] if len(school_dis_by_zip.loc[idx[i]]) == 2]\n",
    "school_dis_compare = school_dis_by_zip.loc[idx[public_and_charter]].copy()"
   ]
  },
  {
   "cell_type": "code",
   "execution_count": 11,
   "metadata": {},
   "outputs": [
    {
     "data": {
      "text/html": [
       "<div>\n",
       "<style>\n",
       "    .dataframe thead tr:only-child th {\n",
       "        text-align: right;\n",
       "    }\n",
       "\n",
       "    .dataframe thead th {\n",
       "        text-align: left;\n",
       "    }\n",
       "\n",
       "    .dataframe tbody tr th {\n",
       "        vertical-align: top;\n",
       "    }\n",
       "</style>\n",
       "<table border=\"1\" class=\"dataframe\">\n",
       "  <thead>\n",
       "    <tr style=\"text-align: right;\">\n",
       "      <th></th>\n",
       "      <th></th>\n",
       "      <th>TOTAL_Enrollment</th>\n",
       "      <th>Students With Disabilities</th>\n",
       "      <th>% Students With Disabilities</th>\n",
       "    </tr>\n",
       "    <tr>\n",
       "      <th>Zip</th>\n",
       "      <th>School Type</th>\n",
       "      <th></th>\n",
       "      <th></th>\n",
       "      <th></th>\n",
       "    </tr>\n",
       "  </thead>\n",
       "  <tbody>\n",
       "    <tr>\n",
       "      <th rowspan=\"2\" valign=\"top\">1022</th>\n",
       "      <th>Charter School</th>\n",
       "      <td>478</td>\n",
       "      <td>37.0</td>\n",
       "      <td>7.700000</td>\n",
       "    </tr>\n",
       "    <tr>\n",
       "      <th>Public School</th>\n",
       "      <td>366</td>\n",
       "      <td>39.0</td>\n",
       "      <td>10.700000</td>\n",
       "    </tr>\n",
       "    <tr>\n",
       "      <th rowspan=\"2\" valign=\"top\">1027</th>\n",
       "      <th>Charter School</th>\n",
       "      <td>218</td>\n",
       "      <td>36.0</td>\n",
       "      <td>16.500000</td>\n",
       "    </tr>\n",
       "    <tr>\n",
       "      <th>Public School</th>\n",
       "      <td>2433</td>\n",
       "      <td>453.0</td>\n",
       "      <td>19.014286</td>\n",
       "    </tr>\n",
       "    <tr>\n",
       "      <th rowspan=\"2\" valign=\"top\">1035</th>\n",
       "      <th>Charter School</th>\n",
       "      <td>471</td>\n",
       "      <td>28.0</td>\n",
       "      <td>5.900000</td>\n",
       "    </tr>\n",
       "    <tr>\n",
       "      <th>Public School</th>\n",
       "      <td>562</td>\n",
       "      <td>68.0</td>\n",
       "      <td>11.800000</td>\n",
       "    </tr>\n",
       "  </tbody>\n",
       "</table>\n",
       "</div>"
      ],
      "text/plain": [
       "                     TOTAL_Enrollment              ...               % Students With Disabilities\n",
       "Zip  School Type                                   ...                                           \n",
       "1022 Charter School               478              ...                                   7.700000\n",
       "     Public School                366              ...                                  10.700000\n",
       "1027 Charter School               218              ...                                  16.500000\n",
       "     Public School               2433              ...                                  19.014286\n",
       "1035 Charter School               471              ...                                   5.900000\n",
       "     Public School                562              ...                                  11.800000\n",
       "\n",
       "[6 rows x 3 columns]"
      ]
     },
     "execution_count": 11,
     "metadata": {},
     "output_type": "execute_result"
    }
   ],
   "source": [
    "school_dis_compare.head(6)"
   ]
  },
  {
   "cell_type": "code",
   "execution_count": 12,
   "metadata": {
    "collapsed": true
   },
   "outputs": [],
   "source": [
    "def compare_dis(i):        \n",
    "    '''Return the p-value of a two-sample proportion z-test between samples of students with disabilities.'''\n",
    "    count_1 = school_dis_by_zip.loc[idx[i[0]]].iloc[0].loc['Students With Disabilities']\n",
    "    count_2 = school_dis_by_zip.loc[idx[i[0]]].iloc[1].loc['Students With Disabilities']\n",
    "    \n",
    "    obs_1 = school_dis_by_zip.loc[idx[i[0]]].iloc[0].loc['TOTAL_Enrollment']\n",
    "    obs_2 = school_dis_by_zip.loc[idx[i[0]]].iloc[1].loc['TOTAL_Enrollment']\n",
    "    \n",
    "    stat, pval = proportions_ztest(count=[count_1, count_2], nobs=[obs_1, obs_2])\n",
    "    \n",
    "    return pval\n",
    "\n",
    "def which_dis_higher(i):\n",
    "    '''Return 0 if charter school for given zip code i has higher % students with disabilities, else return 1.'''\n",
    "    perc_1 = school_dis_by_zip.loc[idx[i[0]]].iloc[0].loc['% Students With Disabilities']\n",
    "    perc_2 = school_dis_by_zip.loc[idx[i[0]]].iloc[1].loc['% Students With Disabilities']\n",
    "    \n",
    "    return int(perc_1 < perc_2)\n",
    "\n",
    "school_dis_compare['p_value'] = school_ell_compare.index.map(compare_dis)\n",
    "school_dis_compare['public_higher'] = school_ell_compare.index.map(which_dis_higher)"
   ]
  },
  {
   "cell_type": "code",
   "execution_count": 13,
   "metadata": {},
   "outputs": [
    {
     "data": {
      "text/html": [
       "<div>\n",
       "<style>\n",
       "    .dataframe thead tr:only-child th {\n",
       "        text-align: right;\n",
       "    }\n",
       "\n",
       "    .dataframe thead th {\n",
       "        text-align: left;\n",
       "    }\n",
       "\n",
       "    .dataframe tbody tr th {\n",
       "        vertical-align: top;\n",
       "    }\n",
       "</style>\n",
       "<table border=\"1\" class=\"dataframe\">\n",
       "  <thead>\n",
       "    <tr style=\"text-align: right;\">\n",
       "      <th></th>\n",
       "      <th></th>\n",
       "      <th>TOTAL_Enrollment</th>\n",
       "      <th>Students With Disabilities</th>\n",
       "      <th>% Students With Disabilities</th>\n",
       "      <th>p_value</th>\n",
       "      <th>public_higher</th>\n",
       "    </tr>\n",
       "    <tr>\n",
       "      <th>Zip</th>\n",
       "      <th>School Type</th>\n",
       "      <th></th>\n",
       "      <th></th>\n",
       "      <th></th>\n",
       "      <th></th>\n",
       "      <th></th>\n",
       "    </tr>\n",
       "  </thead>\n",
       "  <tbody>\n",
       "    <tr>\n",
       "      <th rowspan=\"2\" valign=\"top\">1022</th>\n",
       "      <th>Charter School</th>\n",
       "      <td>478</td>\n",
       "      <td>37.0</td>\n",
       "      <td>7.700000</td>\n",
       "      <td>0.142588</td>\n",
       "      <td>1</td>\n",
       "    </tr>\n",
       "    <tr>\n",
       "      <th>Public School</th>\n",
       "      <td>366</td>\n",
       "      <td>39.0</td>\n",
       "      <td>10.700000</td>\n",
       "      <td>0.142588</td>\n",
       "      <td>1</td>\n",
       "    </tr>\n",
       "    <tr>\n",
       "      <th rowspan=\"2\" valign=\"top\">1027</th>\n",
       "      <th>Charter School</th>\n",
       "      <td>218</td>\n",
       "      <td>36.0</td>\n",
       "      <td>16.500000</td>\n",
       "      <td>0.442635</td>\n",
       "      <td>1</td>\n",
       "    </tr>\n",
       "    <tr>\n",
       "      <th>Public School</th>\n",
       "      <td>2433</td>\n",
       "      <td>453.0</td>\n",
       "      <td>19.014286</td>\n",
       "      <td>0.442635</td>\n",
       "      <td>1</td>\n",
       "    </tr>\n",
       "    <tr>\n",
       "      <th rowspan=\"2\" valign=\"top\">1035</th>\n",
       "      <th>Charter School</th>\n",
       "      <td>471</td>\n",
       "      <td>28.0</td>\n",
       "      <td>5.900000</td>\n",
       "      <td>0.000690</td>\n",
       "      <td>1</td>\n",
       "    </tr>\n",
       "    <tr>\n",
       "      <th>Public School</th>\n",
       "      <td>562</td>\n",
       "      <td>68.0</td>\n",
       "      <td>11.800000</td>\n",
       "      <td>0.000690</td>\n",
       "      <td>1</td>\n",
       "    </tr>\n",
       "  </tbody>\n",
       "</table>\n",
       "</div>"
      ],
      "text/plain": [
       "                     TOTAL_Enrollment  Students With Disabilities      ...         p_value  public_higher\n",
       "Zip  School Type                                                       ...                               \n",
       "1022 Charter School               478                        37.0      ...        0.142588              1\n",
       "     Public School                366                        39.0      ...        0.142588              1\n",
       "1027 Charter School               218                        36.0      ...        0.442635              1\n",
       "     Public School               2433                       453.0      ...        0.442635              1\n",
       "1035 Charter School               471                        28.0      ...        0.000690              1\n",
       "     Public School                562                        68.0      ...        0.000690              1\n",
       "\n",
       "[6 rows x 5 columns]"
      ]
     },
     "execution_count": 13,
     "metadata": {},
     "output_type": "execute_result"
    }
   ],
   "source": [
    "school_dis_compare.head(6)"
   ]
  },
  {
   "cell_type": "code",
   "execution_count": 14,
   "metadata": {
    "collapsed": true
   },
   "outputs": [],
   "source": [
    "def ecdf(data):\n",
    "    \"\"\"Compute ECDF for a one-dimensional array of measurements.\"\"\"\n",
    "    # Number of data points: n\n",
    "    n = len(data)\n",
    "    \n",
    "    # x-data for the ECDF: x\n",
    "    x = np.sort(data)\n",
    "\n",
    "    # y-data for the ECDF: y\n",
    "    y = np.arange(1, n+1) / n\n",
    "\n",
    "    return x, y"
   ]
  },
  {
   "cell_type": "code",
   "execution_count": 15,
   "metadata": {},
   "outputs": [
    {
     "data": {
      "text/plain": [
       "Text(0.5,1,'CDF for p values from Comparing Students With Disabilities')"
      ]
     },
     "execution_count": 15,
     "metadata": {},
     "output_type": "execute_result"
    },
    {
     "data": {
      "image/png": "[encoded data removed]",
      "text/plain": [
       "<matplotlib.figure.Figure at 0x1df89b6f668>"
      ]
     },
     "metadata": {},
     "output_type": "display_data"
    }
   ],
   "source": [
    "p_value, cdf = ecdf(school_dis_compare['p_value'])\n",
    "\n",
    "plt.figure(figsize=(8,6))\n",
    "plt.plot(p_value, cdf, marker='.', linestyle='none')\n",
    "plt.xlabel('p values')\n",
    "plt.ylabel('CDF')\n",
    "plt.title('CDF for p values from Comparing Students With Disabilities')"
   ]
  },
  {
   "cell_type": "code",
   "execution_count": 18,
   "metadata": {},
   "outputs": [
    {
     "name": "stdout",
     "output_type": "stream",
     "text": [
      "Proportion of significantly different zip codes: 0.53\n"
     ]
    }
   ],
   "source": [
    "school_sigdif_dis = school_dis_compare[school_dis_compare['p_value'] < 0.05]\n",
    "\n",
    "print(\"Proportion of significantly different zip codes: {:.2f}\".format(len(school_sigdif_dis)/len(school_dis_compare)))"
   ]
  },
  {
   "cell_type": "code",
   "execution_count": 20,
   "metadata": {},
   "outputs": [
    {
     "name": "stdout",
     "output_type": "stream",
     "text": [
      "Proportion of Zip Codes where Public Schools have significantly higher %'s of students with disabilities: 0.433\n"
     ]
    }
   ],
   "source": [
    "prop_public_higher_dis  = school_sigdif_dis['public_higher'].sum()/len(school_dis_compare)\n",
    "\n",
    "print(\"Proportion of Zip Codes where Public Schools have significantly higher %'s of students with disabilities: {:.3f}\".format(prop_public_higher_dis))"
   ]
  },
  {
   "cell_type": "code",
   "execution_count": 21,
   "metadata": {},
   "outputs": [
    {
     "name": "stdout",
     "output_type": "stream",
     "text": [
      "Proportion amongst zip codes with significantly different schools where Public Schools have significantly higher %'s of students with disabilities: 0.812\n"
     ]
    }
   ],
   "source": [
    "print(\"Proportion amongst zip codes with significantly different schools where Public Schools have significantly higher %'s of students with disabilities: {:.3f}\".format(school_sigdif_dis['public_higher'].sum()/len(school_sigdif_dis)))"
   ]
  },
  {
   "cell_type": "code",
   "execution_count": null,
   "metadata": {
    "collapsed": true
   },
   "outputs": [],
   "source": []
  }
 ],
 "metadata": {
  "kernelspec": {
   "display_name": "Python 3",
   "language": "python",
   "name": "python3"
  },
  "language_info": {
   "codemirror_mode": {
    "name": "ipython",
    "version": 3
   },
   "file_extension": ".py",
   "mimetype": "text/x-python",
   "name": "python",
   "nbconvert_exporter": "python",
   "pygments_lexer": "ipython3",
   "version": "3.6.3"
  }
 },
 "nbformat": 4,
 "nbformat_minor": 2
}
