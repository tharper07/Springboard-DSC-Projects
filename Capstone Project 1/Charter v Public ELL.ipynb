{
 "cells": [
  {
   "cell_type": "markdown",
   "metadata": {},
   "source": [
    "# Comparing the percentage of English Language Learners and Students with First Language Not English between Charter and Public Schools in Massachusetts\n",
    "\n",
    "## The Question\n",
    "\n",
    "In this notebook, we will examine whether or not charter schools in Massachusetts significantly differ from public schools in terms of the number of students with English as a second language they serve. My hypothesis is that there is a difference and that charter schools underserve these students relative to their neighboring public schools."
   ]
  },
  {
   "cell_type": "code",
   "execution_count": 2,
   "metadata": {
    "collapsed": true
   },
   "outputs": [],
   "source": [
    "# import packages\n",
    "from scipy.stats import ttest_ind, ttest_ind_from_stats\n",
    "from statsmodels.stats.proportion import proportions_ztest\n",
    "import pandas as pd\n",
    "import matplotlib.pyplot as plt\n",
    "import matplotlib.image as mpimg\n",
    "import seaborn as sns\n",
    "import numpy as np\n",
    "\n",
    "# set jupyter netbook options\n",
    "pd.set_option('max_columns',0)\n",
    "%matplotlib inline"
   ]
  },
  {
   "cell_type": "code",
   "execution_count": 4,
   "metadata": {},
   "outputs": [
    {
     "data": {
      "text/html": [
       "<div>\n",
       "<style>\n",
       "    .dataframe thead tr:only-child th {\n",
       "        text-align: right;\n",
       "    }\n",
       "\n",
       "    .dataframe thead th {\n",
       "        text-align: left;\n",
       "    }\n",
       "\n",
       "    .dataframe tbody tr th {\n",
       "        vertical-align: top;\n",
       "    }\n",
       "</style>\n",
       "<table border=\"1\" class=\"dataframe\">\n",
       "  <thead>\n",
       "    <tr style=\"text-align: right;\">\n",
       "      <th></th>\n",
       "      <th>School Code</th>\n",
       "      <th>School Name</th>\n",
       "      <th>School Type</th>\n",
       "      <th>District Name</th>\n",
       "      <th>District Code</th>\n",
       "      <th>Zip</th>\n",
       "      <th>TOTAL_Enrollment</th>\n",
       "      <th>First Language Not English</th>\n",
       "      <th>% First Language Not English</th>\n",
       "      <th>English Language Learner</th>\n",
       "      <th>% English Language Learner</th>\n",
       "    </tr>\n",
       "  </thead>\n",
       "  <tbody>\n",
       "    <tr>\n",
       "      <th>0</th>\n",
       "      <td>10505</td>\n",
       "      <td>Abington High</td>\n",
       "      <td>Public School</td>\n",
       "      <td>Abington</td>\n",
       "      <td>10000</td>\n",
       "      <td>2351</td>\n",
       "      <td>452</td>\n",
       "      <td>24.0</td>\n",
       "      <td>5.3</td>\n",
       "      <td>11.0</td>\n",
       "      <td>2.4</td>\n",
       "    </tr>\n",
       "    <tr>\n",
       "      <th>1</th>\n",
       "      <td>10003</td>\n",
       "      <td>Beaver Brook Elementary School</td>\n",
       "      <td>Public School</td>\n",
       "      <td>Abington</td>\n",
       "      <td>10000</td>\n",
       "      <td>2351</td>\n",
       "      <td>580</td>\n",
       "      <td>61.0</td>\n",
       "      <td>10.5</td>\n",
       "      <td>42.0</td>\n",
       "      <td>7.2</td>\n",
       "    </tr>\n",
       "    <tr>\n",
       "      <th>2</th>\n",
       "      <td>10002</td>\n",
       "      <td>Center Elementary School</td>\n",
       "      <td>Public School</td>\n",
       "      <td>Abington</td>\n",
       "      <td>10000</td>\n",
       "      <td>2351</td>\n",
       "      <td>203</td>\n",
       "      <td>26.0</td>\n",
       "      <td>12.8</td>\n",
       "      <td>6.0</td>\n",
       "      <td>3.0</td>\n",
       "    </tr>\n",
       "    <tr>\n",
       "      <th>3</th>\n",
       "      <td>10405</td>\n",
       "      <td>Frolio Middle School</td>\n",
       "      <td>Public School</td>\n",
       "      <td>Abington</td>\n",
       "      <td>10000</td>\n",
       "      <td>2351</td>\n",
       "      <td>328</td>\n",
       "      <td>18.0</td>\n",
       "      <td>5.5</td>\n",
       "      <td>6.0</td>\n",
       "      <td>1.8</td>\n",
       "    </tr>\n",
       "    <tr>\n",
       "      <th>4</th>\n",
       "      <td>10015</td>\n",
       "      <td>Woodsdale Elementary School</td>\n",
       "      <td>Public School</td>\n",
       "      <td>Abington</td>\n",
       "      <td>10000</td>\n",
       "      <td>2351</td>\n",
       "      <td>353</td>\n",
       "      <td>21.0</td>\n",
       "      <td>5.9</td>\n",
       "      <td>7.0</td>\n",
       "      <td>2.0</td>\n",
       "    </tr>\n",
       "  </tbody>\n",
       "</table>\n",
       "</div>"
      ],
      "text/plain": [
       "   School Code            ...             % English Language Learner\n",
       "0        10505            ...                                    2.4\n",
       "1        10003            ...                                    7.2\n",
       "2        10002            ...                                    3.0\n",
       "3        10405            ...                                    1.8\n",
       "4        10015            ...                                    2.0\n",
       "\n",
       "[5 rows x 11 columns]"
      ]
     },
     "execution_count": 4,
     "metadata": {},
     "output_type": "execute_result"
    }
   ],
   "source": [
    "# read data from Mass DOE\n",
    "schools = pd.read_csv('MA_Public_Schools_2017.csv')\n",
    "schools.dropna(inplace=True, subset=['First Language Not English', 'English Language Learner'])\n",
    "\n",
    "# select columns relevant to English Language Learners\n",
    "school_ell = schools[['School Code','School Name','School Type','District Name','District Code','Zip',\n",
    "                      'TOTAL_Enrollment', 'First Language Not English', '% First Language Not English', \n",
    "                      'English Language Learner', '% English Language Learner']]\n",
    "\n",
    "school_ell.head()"
   ]
  },
  {
   "cell_type": "markdown",
   "metadata": {},
   "source": [
    "## Initial Observation\n",
    "\n",
    "By pivoting on the type of school in our data, it appears that across the state of Massachusetts charter schools have significantly higher proportions of both English language learners and students with English as a second language."
   ]
  },
  {
   "cell_type": "code",
   "execution_count": 5,
   "metadata": {},
   "outputs": [
    {
     "data": {
      "text/html": [
       "<div>\n",
       "<style>\n",
       "    .dataframe thead tr:only-child th {\n",
       "        text-align: right;\n",
       "    }\n",
       "\n",
       "    .dataframe thead th {\n",
       "        text-align: left;\n",
       "    }\n",
       "\n",
       "    .dataframe tbody tr th {\n",
       "        vertical-align: top;\n",
       "    }\n",
       "</style>\n",
       "<table border=\"1\" class=\"dataframe\">\n",
       "  <thead>\n",
       "    <tr style=\"text-align: right;\">\n",
       "      <th></th>\n",
       "      <th>% English Language Learner</th>\n",
       "      <th>% First Language Not English</th>\n",
       "      <th>English Language Learner</th>\n",
       "      <th>First Language Not English</th>\n",
       "    </tr>\n",
       "    <tr>\n",
       "      <th>School Type</th>\n",
       "      <th></th>\n",
       "      <th></th>\n",
       "      <th></th>\n",
       "      <th></th>\n",
       "    </tr>\n",
       "  </thead>\n",
       "  <tbody>\n",
       "    <tr>\n",
       "      <th>Charter School</th>\n",
       "      <td>13.051282</td>\n",
       "      <td>26.371795</td>\n",
       "      <td>5482.0</td>\n",
       "      <td>12545.0</td>\n",
       "    </tr>\n",
       "    <tr>\n",
       "      <th>Public School</th>\n",
       "      <td>9.394244</td>\n",
       "      <td>18.203894</td>\n",
       "      <td>84722.0</td>\n",
       "      <td>179419.0</td>\n",
       "    </tr>\n",
       "  </tbody>\n",
       "</table>\n",
       "</div>"
      ],
      "text/plain": [
       "                % English Language Learner             ...              First Language Not English\n",
       "School Type                                            ...                                        \n",
       "Charter School                   13.051282             ...                                 12545.0\n",
       "Public School                     9.394244             ...                                179419.0\n",
       "\n",
       "[2 rows x 4 columns]"
      ]
     },
     "execution_count": 5,
     "metadata": {},
     "output_type": "execute_result"
    }
   ],
   "source": [
    "school_ell.pivot_table(index = 'School Type', \n",
    "                       values=['First Language Not English', '% First Language Not English',\n",
    "                               'English Language Learner', '% English Language Learner'],\n",
    "                       aggfunc={'First Language Not English':'sum', '% First Language Not English':'mean',\n",
    "                                'English Language Learner':'sum', '% English Language Learner':'mean'})"
   ]
  },
  {
   "cell_type": "markdown",
   "metadata": {},
   "source": [
    "By visually comparing the distributions of percentages of English language learners, we can check to see if there are any outliers skewing the data and whether or not charter and public schools have similar distributions. After creating the histogram below, we see that in fact both charter and public schools have different distributions. It appears that charter schools would have an average percentage of English language learners that is skewed more to the right than that of public schools.\n",
    "\n",
    "By doing a two sample t-test on the average percentage of English language learners in a school, we find with a p-value below 0.05 that there is a significant difference between charter and public schools on average."
   ]
  },
  {
   "cell_type": "code",
   "execution_count": 6,
   "metadata": {},
   "outputs": [
    {
     "name": "stdout",
     "output_type": "stream",
     "text": [
      "Charter mean: 13.05  Public mean: 9.39\n"
     ]
    },
    {
     "data": {
      "text/plain": [
       "Ttest_indResult(statistic=2.4045043704771123, pvalue=0.0162922541540307)"
      ]
     },
     "execution_count": 6,
     "metadata": {},
     "output_type": "execute_result"
    }
   ],
   "source": [
    "charter_ell = schools[schools['School Type'] == 'Charter School']['% English Language Learner']\n",
    "public_ell  = schools[schools['School Type'] == 'Public School']['% English Language Learner']\n",
    "\n",
    "print('Charter mean: {:.2f}  Public mean: {:.2f}'.format(charter_ell.mean(), public_ell.mean()))\n",
    "\n",
    "ttest_ind(charter_ell, public_ell)"
   ]
  },
  {
   "cell_type": "code",
   "execution_count": 7,
   "metadata": {},
   "outputs": [
    {
     "data": {
      "text/plain": [
       "<matplotlib.legend.Legend at 0x1efceca5c88>"
      ]
     },
     "execution_count": 7,
     "metadata": {},
     "output_type": "execute_result"
    },
    {
     "data": {
      "image/png": "[encoded data removed]",
      "text/plain": [
       "<matplotlib.figure.Figure at 0x1efcdda3da0>"
      ]
     },
     "metadata": {},
     "output_type": "display_data"
    }
   ],
   "source": [
    "bins = [10*i for i in range(0,11)]\n",
    "\n",
    "plt.figure(figsize=(8,5))\n",
    "sns.distplot(charter_ell, bins=bins, kde=False, norm_hist=True)\n",
    "sns.distplot(public_ell, bins=bins, kde=False, norm_hist=True)\n",
    "plt.title('Distribution of Schools by % English Language Learners')\n",
    "plt.margins(0.02)\n",
    "plt.legend(['Charter', 'Public'])"
   ]
  },
  {
   "cell_type": "markdown",
   "metadata": {},
   "source": [
    "By performing a similar analysis for the percentage of students with first language not English, we obtain similar results. With a p-value well below 0.05, we see that there is an even more significant difference between charter and public schools when it comes to students with English as a second language."
   ]
  },
  {
   "cell_type": "code",
   "execution_count": 48,
   "metadata": {},
   "outputs": [
    {
     "name": "stdout",
     "output_type": "stream",
     "text": [
      "Charter mean: 26.37  Public mean: 18.20\n"
     ]
    },
    {
     "data": {
      "text/plain": [
       "Ttest_indResult(statistic=3.5354653107637515, pvalue=0.00041708326560901466)"
      ]
     },
     "execution_count": 48,
     "metadata": {},
     "output_type": "execute_result"
    }
   ],
   "source": [
    "charter_flne = schools[schools['School Type'] == 'Charter School']['% First Language Not English']\n",
    "public_flne  = schools[schools['School Type'] == 'Public School']['% First Language Not English']\n",
    "\n",
    "print('Charter mean: {:.2f}  Public mean: {:.2f}'.format(charter_flne.mean(), public_flne.mean()))\n",
    "\n",
    "ttest_ind(charter_flne, public_flne)"
   ]
  },
  {
   "cell_type": "code",
   "execution_count": 49,
   "metadata": {},
   "outputs": [
    {
     "data": {
      "text/plain": [
       "<matplotlib.legend.Legend at 0x1f9c4175c50>"
      ]
     },
     "execution_count": 49,
     "metadata": {},
     "output_type": "execute_result"
    },
    {
     "data": {
      "image/png": "[encoded data removed]",
      "text/plain": [
       "<matplotlib.figure.Figure at 0x1f9c40b9f60>"
      ]
     },
     "metadata": {},
     "output_type": "display_data"
    }
   ],
   "source": [
    "bins = [10*i for i in range(0,11)]\n",
    "\n",
    "plt.figure(figsize=(8,5))\n",
    "sns.distplot(charter_flne, bins=bins, kde=False, norm_hist=True)\n",
    "sns.distplot(public_flne, bins=bins, kde=False, norm_hist=True)\n",
    "plt.title('Distribution of Schools by % Students with First Language Not English')\n",
    "plt.margins(0.02)\n",
    "plt.legend(['Charter', 'Public'])"
   ]
  },
  {
   "cell_type": "markdown",
   "metadata": {},
   "source": [
    "## Diving deeper by zip code\n",
    "\n",
    "One thing that the above analysis does not account for is that Massachusetts is a fairly diverse state with local populations varying based on location and urbanization. To get a better sense of how charter schools are serving these students it would help to focus on neighboring schools and whether or not they are serving students in the same way.\n",
    "\n",
    "To do this, we group the schools by zip code and school type so we can compare charter and public schools within the same zip code."
   ]
  },
  {
   "cell_type": "code",
   "execution_count": 8,
   "metadata": {
    "collapsed": true
   },
   "outputs": [],
   "source": [
    "f= {'TOTAL_Enrollment':'sum', 'First Language Not English':'sum', '% First Language Not English':'mean', \n",
    "    'English Language Learner':'sum', '% English Language Learner':'mean'}\n",
    "\n",
    "school_ell_by_zip = school_ell.drop(['School Code', 'School Name', 'District Name', 'District Code'], axis=1).groupby(['Zip', 'School Type']).agg(f)\n",
    "\n",
    "# slice demographic data by zip codes with public and charter schools\n",
    "idx = pd.IndexSlice\n",
    "public_and_charter = [i for i in school_ell['Zip'] if len(school_ell_by_zip.loc[idx[i]]) == 2]\n",
    "school_ell_compare = school_ell_by_zip.loc[idx[public_and_charter]].copy()"
   ]
  },
  {
   "cell_type": "code",
   "execution_count": 9,
   "metadata": {},
   "outputs": [
    {
     "data": {
      "text/html": [
       "<div>\n",
       "<style>\n",
       "    .dataframe thead tr:only-child th {\n",
       "        text-align: right;\n",
       "    }\n",
       "\n",
       "    .dataframe thead th {\n",
       "        text-align: left;\n",
       "    }\n",
       "\n",
       "    .dataframe tbody tr th {\n",
       "        vertical-align: top;\n",
       "    }\n",
       "</style>\n",
       "<table border=\"1\" class=\"dataframe\">\n",
       "  <thead>\n",
       "    <tr style=\"text-align: right;\">\n",
       "      <th></th>\n",
       "      <th></th>\n",
       "      <th>TOTAL_Enrollment</th>\n",
       "      <th>First Language Not English</th>\n",
       "      <th>% First Language Not English</th>\n",
       "      <th>English Language Learner</th>\n",
       "      <th>% English Language Learner</th>\n",
       "    </tr>\n",
       "    <tr>\n",
       "      <th>Zip</th>\n",
       "      <th>School Type</th>\n",
       "      <th></th>\n",
       "      <th></th>\n",
       "      <th></th>\n",
       "      <th></th>\n",
       "      <th></th>\n",
       "    </tr>\n",
       "  </thead>\n",
       "  <tbody>\n",
       "    <tr>\n",
       "      <th rowspan=\"2\" valign=\"top\">1022</th>\n",
       "      <th>Charter School</th>\n",
       "      <td>478</td>\n",
       "      <td>56.0</td>\n",
       "      <td>11.700000</td>\n",
       "      <td>22.0</td>\n",
       "      <td>4.600000</td>\n",
       "    </tr>\n",
       "    <tr>\n",
       "      <th>Public School</th>\n",
       "      <td>366</td>\n",
       "      <td>4.0</td>\n",
       "      <td>1.100000</td>\n",
       "      <td>0.0</td>\n",
       "      <td>0.000000</td>\n",
       "    </tr>\n",
       "    <tr>\n",
       "      <th rowspan=\"2\" valign=\"top\">1027</th>\n",
       "      <th>Charter School</th>\n",
       "      <td>218</td>\n",
       "      <td>2.0</td>\n",
       "      <td>0.900000</td>\n",
       "      <td>0.0</td>\n",
       "      <td>0.000000</td>\n",
       "    </tr>\n",
       "    <tr>\n",
       "      <th>Public School</th>\n",
       "      <td>2433</td>\n",
       "      <td>126.0</td>\n",
       "      <td>5.085714</td>\n",
       "      <td>42.0</td>\n",
       "      <td>2.214286</td>\n",
       "    </tr>\n",
       "    <tr>\n",
       "      <th rowspan=\"2\" valign=\"top\">1035</th>\n",
       "      <th>Charter School</th>\n",
       "      <td>471</td>\n",
       "      <td>62.0</td>\n",
       "      <td>13.200000</td>\n",
       "      <td>12.0</td>\n",
       "      <td>2.500000</td>\n",
       "    </tr>\n",
       "    <tr>\n",
       "      <th>Public School</th>\n",
       "      <td>562</td>\n",
       "      <td>43.0</td>\n",
       "      <td>7.650000</td>\n",
       "      <td>9.0</td>\n",
       "      <td>1.600000</td>\n",
       "    </tr>\n",
       "  </tbody>\n",
       "</table>\n",
       "</div>"
      ],
      "text/plain": [
       "                     TOTAL_Enrollment             ...              % English Language Learner\n",
       "Zip  School Type                                  ...                                        \n",
       "1022 Charter School               478             ...                                4.600000\n",
       "     Public School                366             ...                                0.000000\n",
       "1027 Charter School               218             ...                                0.000000\n",
       "     Public School               2433             ...                                2.214286\n",
       "1035 Charter School               471             ...                                2.500000\n",
       "     Public School                562             ...                                1.600000\n",
       "\n",
       "[6 rows x 5 columns]"
      ]
     },
     "execution_count": 9,
     "metadata": {},
     "output_type": "execute_result"
    }
   ],
   "source": [
    "school_ell_compare.head(6)"
   ]
  },
  {
   "cell_type": "markdown",
   "metadata": {},
   "source": [
    "Now, we will perform the same analysis that we did for the entire state of Massachusetts. However, because we've lost some information (like the distribution of percentages we had before) and there are only a few schools in each zip code, we opt for testing the proportion of English language learners and students with first language not English using the statsmodel.stats.proportion library instead of trying to reconstruct a two sample t-test. For use later, we also indicate whether or not the public schools in a given zip code had a higher percentage of English language learners and students with first language not English."
   ]
  },
  {
   "cell_type": "code",
   "execution_count": 10,
   "metadata": {
    "collapsed": true
   },
   "outputs": [],
   "source": [
    "def compare_ell(i):        \n",
    "    '''Return the p-value of a two-sample proportion z-test between samples of English Language Learners.'''\n",
    "    count_1 = school_ell_by_zip.loc[idx[i[0]]].iloc[0].loc['English Language Learner']\n",
    "    count_2 = school_ell_by_zip.loc[idx[i[0]]].iloc[1].loc['English Language Learner']\n",
    "    \n",
    "    obs_1 = school_ell_by_zip.loc[idx[i[0]]].iloc[0].loc['TOTAL_Enrollment']\n",
    "    obs_2 = school_ell_by_zip.loc[idx[i[0]]].iloc[1].loc['TOTAL_Enrollment']\n",
    "    \n",
    "    stat, pval = proportions_ztest(count=[count_1, count_2], nobs=[obs_1, obs_2])\n",
    "    \n",
    "    return pval\n",
    "\n",
    "def compare_flne(i):        \n",
    "    '''Return the p-value of a two-sample proportion z-test between samples of students with First Language Not English.'''\n",
    "    count_1 = school_ell_by_zip.loc[idx[i[0]]].iloc[0].loc['First Language Not English']\n",
    "    count_2 = school_ell_by_zip.loc[idx[i[0]]].iloc[1].loc['First Language Not English']\n",
    "    \n",
    "    obs_1 = school_ell_by_zip.loc[idx[i[0]]].iloc[0].loc['TOTAL_Enrollment']\n",
    "    obs_2 = school_ell_by_zip.loc[idx[i[0]]].iloc[1].loc['TOTAL_Enrollment']\n",
    "    \n",
    "    stat, pval = proportions_ztest(count=[count_1, count_2], nobs=[obs_1, obs_2])\n",
    "    \n",
    "    return pval\n",
    "\n",
    "def which_ell_higher(i):\n",
    "    '''Return 0 if charter school for given zip code i has higher % English Language Learner else return 1.'''\n",
    "    perc_1 = school_ell_by_zip.loc[idx[i[0]]].iloc[0].loc['% English Language Learner']\n",
    "    perc_2 = school_ell_by_zip.loc[idx[i[0]]].iloc[1].loc['% English Language Learner']\n",
    "    \n",
    "    return int(perc_1 < perc_2)\n",
    "\n",
    "def which_flne_higher(i):\n",
    "    '''Return 0 if charter school for given zip code i has higher % English Language Learner else return 1.'''\n",
    "    perc_1 = school_ell_by_zip.loc[idx[i[0]]].iloc[0].loc['% First Language Not English']\n",
    "    perc_2 = school_ell_by_zip.loc[idx[i[0]]].iloc[1].loc['% First Language Not English']\n",
    "    \n",
    "    return int(perc_1 < perc_2)\n",
    "\n",
    "school_ell_compare['ell_p_value'] = school_ell_compare.index.map(compare_ell)\n",
    "school_ell_compare['flne_p_value'] = school_ell_compare.index.map(compare_flne)\n",
    "school_ell_compare['higher_ell'] = school_ell_compare.index.map(which_ell_higher)\n",
    "school_ell_compare['higher_flne'] = school_ell_compare.index.map(which_flne_higher)"
   ]
  },
  {
   "cell_type": "code",
   "execution_count": 11,
   "metadata": {},
   "outputs": [
    {
     "data": {
      "text/html": [
       "<div>\n",
       "<style>\n",
       "    .dataframe thead tr:only-child th {\n",
       "        text-align: right;\n",
       "    }\n",
       "\n",
       "    .dataframe thead th {\n",
       "        text-align: left;\n",
       "    }\n",
       "\n",
       "    .dataframe tbody tr th {\n",
       "        vertical-align: top;\n",
       "    }\n",
       "</style>\n",
       "<table border=\"1\" class=\"dataframe\">\n",
       "  <thead>\n",
       "    <tr style=\"text-align: right;\">\n",
       "      <th></th>\n",
       "      <th></th>\n",
       "      <th>TOTAL_Enrollment</th>\n",
       "      <th>First Language Not English</th>\n",
       "      <th>% First Language Not English</th>\n",
       "      <th>English Language Learner</th>\n",
       "      <th>% English Language Learner</th>\n",
       "      <th>ell_p_value</th>\n",
       "      <th>flne_p_value</th>\n",
       "      <th>higher_ell</th>\n",
       "      <th>higher_flne</th>\n",
       "    </tr>\n",
       "    <tr>\n",
       "      <th>Zip</th>\n",
       "      <th>School Type</th>\n",
       "      <th></th>\n",
       "      <th></th>\n",
       "      <th></th>\n",
       "      <th></th>\n",
       "      <th></th>\n",
       "      <th></th>\n",
       "      <th></th>\n",
       "      <th></th>\n",
       "      <th></th>\n",
       "    </tr>\n",
       "  </thead>\n",
       "  <tbody>\n",
       "    <tr>\n",
       "      <th rowspan=\"2\" valign=\"top\">1022</th>\n",
       "      <th>Charter School</th>\n",
       "      <td>478</td>\n",
       "      <td>56.0</td>\n",
       "      <td>11.700000</td>\n",
       "      <td>22.0</td>\n",
       "      <td>4.600000</td>\n",
       "      <td>0.000032</td>\n",
       "      <td>2.657887e-09</td>\n",
       "      <td>0</td>\n",
       "      <td>0</td>\n",
       "    </tr>\n",
       "    <tr>\n",
       "      <th>Public School</th>\n",
       "      <td>366</td>\n",
       "      <td>4.0</td>\n",
       "      <td>1.100000</td>\n",
       "      <td>0.0</td>\n",
       "      <td>0.000000</td>\n",
       "      <td>0.000032</td>\n",
       "      <td>2.657887e-09</td>\n",
       "      <td>0</td>\n",
       "      <td>0</td>\n",
       "    </tr>\n",
       "    <tr>\n",
       "      <th rowspan=\"2\" valign=\"top\">1027</th>\n",
       "      <th>Charter School</th>\n",
       "      <td>218</td>\n",
       "      <td>2.0</td>\n",
       "      <td>0.900000</td>\n",
       "      <td>0.0</td>\n",
       "      <td>0.000000</td>\n",
       "      <td>0.050528</td>\n",
       "      <td>4.926077e-03</td>\n",
       "      <td>1</td>\n",
       "      <td>1</td>\n",
       "    </tr>\n",
       "    <tr>\n",
       "      <th>Public School</th>\n",
       "      <td>2433</td>\n",
       "      <td>126.0</td>\n",
       "      <td>5.085714</td>\n",
       "      <td>42.0</td>\n",
       "      <td>2.214286</td>\n",
       "      <td>0.050528</td>\n",
       "      <td>4.926077e-03</td>\n",
       "      <td>1</td>\n",
       "      <td>1</td>\n",
       "    </tr>\n",
       "    <tr>\n",
       "      <th rowspan=\"2\" valign=\"top\">1035</th>\n",
       "      <th>Charter School</th>\n",
       "      <td>471</td>\n",
       "      <td>62.0</td>\n",
       "      <td>13.200000</td>\n",
       "      <td>12.0</td>\n",
       "      <td>2.500000</td>\n",
       "      <td>0.283072</td>\n",
       "      <td>3.499927e-03</td>\n",
       "      <td>0</td>\n",
       "      <td>0</td>\n",
       "    </tr>\n",
       "    <tr>\n",
       "      <th>Public School</th>\n",
       "      <td>562</td>\n",
       "      <td>43.0</td>\n",
       "      <td>7.650000</td>\n",
       "      <td>9.0</td>\n",
       "      <td>1.600000</td>\n",
       "      <td>0.283072</td>\n",
       "      <td>3.499927e-03</td>\n",
       "      <td>0</td>\n",
       "      <td>0</td>\n",
       "    </tr>\n",
       "  </tbody>\n",
       "</table>\n",
       "</div>"
      ],
      "text/plain": [
       "                     TOTAL_Enrollment  First Language Not English     ...       higher_ell  higher_flne\n",
       "Zip  School Type                                                      ...                              \n",
       "1022 Charter School               478                        56.0     ...                0            0\n",
       "     Public School                366                         4.0     ...                0            0\n",
       "1027 Charter School               218                         2.0     ...                1            1\n",
       "     Public School               2433                       126.0     ...                1            1\n",
       "1035 Charter School               471                        62.0     ...                0            0\n",
       "     Public School                562                        43.0     ...                0            0\n",
       "\n",
       "[6 rows x 9 columns]"
      ]
     },
     "execution_count": 11,
     "metadata": {},
     "output_type": "execute_result"
    }
   ],
   "source": [
    "school_ell_compare.head(6)"
   ]
  },
  {
   "cell_type": "markdown",
   "metadata": {},
   "source": [
    "To see how many zip codes have charter and public scools with significantly different percentages of English language learners or students with first language not English, we take a look at the p-values we obtained above by plotting their CDF."
   ]
  },
  {
   "cell_type": "code",
   "execution_count": 12,
   "metadata": {
    "collapsed": true
   },
   "outputs": [],
   "source": [
    "def ecdf(data):\n",
    "    \"\"\"Compute ECDF for a one-dimensional array of measurements.\"\"\"\n",
    "    # Number of data points: n\n",
    "    n = len(data)\n",
    "    \n",
    "    # x-data for the ECDF: x\n",
    "    x = np.sort(data)\n",
    "\n",
    "    # y-data for the ECDF: y\n",
    "    y = np.arange(1, n+1) / n\n",
    "\n",
    "    return x, y"
   ]
  },
  {
   "cell_type": "code",
   "execution_count": 13,
   "metadata": {},
   "outputs": [
    {
     "data": {
      "text/plain": [
       "Text(0.5,1,'CDF for p values from Comparing Students whose First Language is Not English')"
      ]
     },
     "execution_count": 13,
     "metadata": {},
     "output_type": "execute_result"
    },
    {
     "data": {
      "image/png": "[encoded data removed]",
      "text/plain": [
       "<matplotlib.figure.Figure at 0x1efcde22d30>"
      ]
     },
     "metadata": {},
     "output_type": "display_data"
    }
   ],
   "source": [
    "p_value, cdf = ecdf(school_ell_compare['ell_p_value'])\n",
    "\n",
    "plt.figure(figsize=(16,6))\n",
    "plt.subplot(121)\n",
    "plt.plot(p_value, cdf, marker='.', linestyle='none')\n",
    "plt.xlabel('p values')\n",
    "plt.ylabel('CDF')\n",
    "plt.title('CDF for p values from Comparing English Language Learners')\n",
    "plt.subplot(122)\n",
    "plt.plot(p_value, cdf, marker='.', linestyle='none')\n",
    "plt.xlabel('p values')\n",
    "plt.ylabel('CDF')\n",
    "plt.title('CDF for p values from Comparing Students whose First Language is Not English')"
   ]
  },
  {
   "cell_type": "markdown",
   "metadata": {},
   "source": [
    "Looking at these charts, it appears there is a larger proportion of zip codes with significantly different percentages. Below, we take a more exact look at this, and find that about 80% of zip codes have significantly different charter and public schools."
   ]
  },
  {
   "cell_type": "code",
   "execution_count": 19,
   "metadata": {
    "scrolled": false
   },
   "outputs": [
    {
     "name": "stdout",
     "output_type": "stream",
     "text": [
      "Proportion of significantly different zip codes:\n",
      "English Language Learners: 0.78 First Language Not English: 0.80\n"
     ]
    }
   ],
   "source": [
    "school_sigdif_ell = school_ell_compare[school_ell_compare['ell_p_value'] < 0.05]\n",
    "school_sigdif_flne = school_ell_compare[school_ell_compare['flne_p_value'] < 0.05]\n",
    "\n",
    "print(\"Proportion of significantly different zip codes:\\nEnglish Language Learners: {:.2f} First Language Not English: {:.2f}\".format(len(school_sigdif_ell)/len(school_ell_compare), len(school_sigdif_flne)/len(school_ell_compare)))"
   ]
  },
  {
   "cell_type": "code",
   "execution_count": 15,
   "metadata": {},
   "outputs": [
    {
     "name": "stdout",
     "output_type": "stream",
     "text": [
      "Proportion of Zip Codes where Public Schools have significantly higher %'s of English Language Learners: 0.517\n",
      "Proportion of Zip Codes where Public Schools with significantly higher %'s of Students w/ First Language Not English: 0.500\n"
     ]
    }
   ],
   "source": [
    "prop_public_higher_ell  = school_sigdif_ell['higher_ell'].sum()/len(school_ell_compare)\n",
    "prop_public_higher_flne = school_sigdif_flne['higher_flne'].sum()/len(school_ell_compare)\n",
    "\n",
    "print(\"Proportion of Zip Codes where Public Schools have significantly higher %'s of English Language Learners: {:.3f}\".format(prop_public_higher_ell))\n",
    "print(\"Proportion of Zip Codes where Public Schools with significantly higher %'s of Students w/ First Language Not English: {:.3f}\".format(prop_public_higher_flne))"
   ]
  },
  {
   "cell_type": "markdown",
   "metadata": {},
   "source": [
    "From these calculations, we see that amongst all zip codes with both charter and public schools public schools have a higher percentage of English language learners and students with first language not English about half of the time. This suggests public schools don't necessarily better serve these students."
   ]
  },
  {
   "cell_type": "code",
   "execution_count": 16,
   "metadata": {},
   "outputs": [
    {
     "name": "stdout",
     "output_type": "stream",
     "text": [
      "Proportion amongst zip codes with significantly different schools where Public Schools have significantly higher %'s of \n",
      "English Language Learners: 0.660, Students w/ First Language Not English: 0.638\n"
     ]
    }
   ],
   "source": [
    "print(\"Proportion amongst zip codes with significantly different schools where Public Schools have significantly higher %'s of \\nEnglish Language Learners: {:.3f}, Students w/ First Language Not English: {:.3f}\".format(school_sigdif_ell['higher_ell'].sum()/len(school_sigdif_ell), school_sigdif_flne['higher_flne'].sum()/len(school_sigdif_ell)))"
   ]
  },
  {
   "cell_type": "markdown",
   "metadata": {
    "collapsed": true
   },
   "source": [
    "However, when just looking at zip codes where there is a significant difference, it appears that public schools tend to serve a higher percentage when there is a significant difference between the charter and public schools."
   ]
  },
  {
   "cell_type": "markdown",
   "metadata": {},
   "source": [
    "## Conclusions\n",
    "\n",
    "1. There is a significant difference between the percentage of students who are English language learners or whose first language is not English.\n",
    "2. There is not enough evidence to suggest that public schools serve more of these students. Also, this analysis doesn't go deep enough to analyze the services provided to these students and their efficacy.\n",
    "\n",
    "For future work, I would want to go deeper into what/how many services the schools provide. I would also want to track how students who receive those services perform over their school careers."
   ]
  }
 ],
 "metadata": {
  "kernelspec": {
   "display_name": "Python 3",
   "language": "python",
   "name": "python3"
  },
  "language_info": {
   "codemirror_mode": {
    "name": "ipython",
    "version": 3
   },
   "file_extension": ".py",
   "mimetype": "text/x-python",
   "name": "python",
   "nbconvert_exporter": "python",
   "pygments_lexer": "ipython3",
   "version": "3.6.3"
  }
 },
 "nbformat": 4,
 "nbformat_minor": 2
}
